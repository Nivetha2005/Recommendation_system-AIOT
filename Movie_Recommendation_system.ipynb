{
  "cells": [
    {
      "cell_type": "markdown",
      "metadata": {
        "id": "8f-reQ11gbLB"
      },
      "source": [
        "In this tutorial, we build a simple matrix factorization model using the [MovieLens 100K dataset](https://grouplens.org/datasets/movielens/100k/) with TFRS. We can use this model to recommend movies for a given user."
      ]
    },
    {
      "cell_type": "markdown",
      "metadata": {
        "id": "qA00wBE2Ntdm"
      },
      "source": [
        "# Recommendation system  model-1\n",
        "\n",
        "First, install and import TFRS:"
      ]
    },
    {
      "cell_type": "code",
      "execution_count": 13,
      "metadata": {
        "id": "6yzAaM85Z12D"
      },
      "outputs": [],
      "source": [
        "!pip install -q tensorflow-recommenders\n",
        "!pip install -q --upgrade tensorflow-datasets"
      ]
    },
    {
      "cell_type": "code",
      "execution_count": 14,
      "metadata": {
        "id": "n3oYt3R6Nr9l"
      },
      "outputs": [],
      "source": [
        "from typing import Dict, Text\n",
        "\n",
        "import numpy as np\n",
        "import tensorflow as tf\n",
        "\n",
        "import tensorflow_datasets as tfds\n",
        "import tensorflow_recommenders as tfrs\n",
        "import matplotlib.pyplot as plt"
      ]
    },
    {
      "cell_type": "markdown",
      "metadata": {
        "id": "zCxQ1CZcO2wh"
      },
      "source": [
        "### Read the data"
      ]
    },
    {
      "cell_type": "code",
      "execution_count": 15,
      "metadata": {
        "id": "M-mxBYjdO5m7"
      },
      "outputs": [],
      "source": [
        "# Ratings data.\n",
        "ratings = tfds.load('movielens/100k-ratings', split=\"train\")\n",
        "# Features of all the available movies.\n",
        "movies = tfds.load('movielens/100k-movies', split=\"train\")\n",
        "\n",
        "# Select the basic features.\n",
        "ratings = ratings.map(lambda x: {\n",
        "    \"movie_title\": x[\"movie_title\"],\n",
        "    \"user_id\": x[\"user_id\"]\n",
        "})\n",
        "movies = movies.map(lambda x: x[\"movie_title\"])"
      ]
    },
    {
      "cell_type": "markdown",
      "metadata": {
        "id": "5W0HSfmSNCWm"
      },
      "source": [
        "Build vocabularies to convert user ids and movie titles into integer indices for embedding layers:"
      ]
    },
    {
      "cell_type": "code",
      "execution_count": 16,
      "metadata": {
        "id": "9I1VTEjHzpfX"
      },
      "outputs": [],
      "source": [
        "user_ids_vocabulary = tf.keras.layers.StringLookup(mask_token=None)\n",
        "user_ids_vocabulary.adapt(ratings.map(lambda x: x[\"user_id\"]))\n",
        "\n",
        "movie_titles_vocabulary = tf.keras.layers.StringLookup(mask_token=None)\n",
        "movie_titles_vocabulary.adapt(movies)"
      ]
    },
    {
      "cell_type": "markdown",
      "metadata": {
        "id": "Lrch6rVBOB9Q"
      },
      "source": [
        "### Define a model\n",
        "\n",
        "## Define user and movie models with additional layers and dropout"
      ]
    },
    {
      "cell_type": "code",
      "execution_count": 17,
      "metadata": {
        "id": "e5dNbDZwOIHR"
      },
      "outputs": [],
      "source": [
        "\n",
        "def build_user_model(user_ids_vocabulary):\n",
        "    return tf.keras.Sequential([\n",
        "        user_ids_vocabulary,\n",
        "        tf.keras.layers.Embedding(user_ids_vocabulary.vocabulary_size(), 64),\n",
        "        tf.keras.layers.Dropout(0.2),\n",
        "        tf.keras.layers.Dense(128, activation='relu'),\n",
        "        tf.keras.layers.Dropout(0.2),\n",
        "        tf.keras.layers.Dense(64, activation='relu'),\n",
        "    ])\n",
        "\n",
        "def build_movie_model(movie_titles_vocabulary):\n",
        "    return tf.keras.Sequential([\n",
        "        movie_titles_vocabulary,\n",
        "        tf.keras.layers.Embedding(movie_titles_vocabulary.vocabulary_size(), 64),\n",
        "        tf.keras.layers.Dropout(0.2),\n",
        "        tf.keras.layers.Dense(128, activation='relu'),\n",
        "        tf.keras.layers.Dropout(0.2),\n",
        "        tf.keras.layers.Dense(64, activation='relu'),\n",
        "    ])"
      ]
    },
    {
      "cell_type": "code",
      "source": [
        "# Define a callback to track the training loss\n",
        "class LossHistory(tf.keras.callbacks.Callback):\n",
        "    def on_train_begin(self, logs={}):\n",
        "        self.losses = []\n",
        "\n",
        "    def on_epoch_end(self, epoch, logs={}):\n",
        "        self.losses.append(logs.get('loss'))\n",
        "\n",
        "history = LossHistory()\n"
      ],
      "metadata": {
        "id": "M_5Jag2hJ1Ih"
      },
      "execution_count": 18,
      "outputs": []
    },
    {
      "cell_type": "markdown",
      "metadata": {
        "id": "wdwtgUCEOI8y"
      },
      "source": [
        "##set up the retrieval"
      ]
    },
    {
      "cell_type": "code",
      "execution_count": 19,
      "metadata": {
        "id": "EvtnUN6aUY4U",
        "colab": {
          "base_uri": "https://localhost:8080/"
        },
        "outputId": "43a2f02e-97de-4fa9-c585-6bc11528e1f2"
      },
      "outputs": [
        {
          "output_type": "stream",
          "name": "stdout",
          "text": [
            "Epoch 1/3\n",
            "25/25 [==============================] - 38s 2s/step - loss: 0.6931 - factorized_top_k/top_1_categorical_accuracy: 3.7000e-04 - factorized_top_k/top_5_categorical_accuracy: 0.0028 - factorized_top_k/top_10_categorical_accuracy: 0.0058 - factorized_top_k/top_50_categorical_accuracy: 0.0298 - factorized_top_k/top_100_categorical_accuracy: 0.0604\n",
            "Epoch 2/3\n",
            "25/25 [==============================] - 37s 1s/step - loss: 0.6931 - factorized_top_k/top_1_categorical_accuracy: 4.4000e-04 - factorized_top_k/top_5_categorical_accuracy: 0.0028 - factorized_top_k/top_10_categorical_accuracy: 0.0058 - factorized_top_k/top_50_categorical_accuracy: 0.0301 - factorized_top_k/top_100_categorical_accuracy: 0.0606\n",
            "Epoch 3/3\n",
            "25/25 [==============================] - 38s 2s/step - loss: 0.6931 - factorized_top_k/top_1_categorical_accuracy: 4.3000e-04 - factorized_top_k/top_5_categorical_accuracy: 0.0028 - factorized_top_k/top_10_categorical_accuracy: 0.0058 - factorized_top_k/top_50_categorical_accuracy: 0.0302 - factorized_top_k/top_100_categorical_accuracy: 0.0609\n"
          ]
        },
        {
          "output_type": "execute_result",
          "data": {
            "text/plain": [
              "<tensorflow_recommenders.layers.factorized_top_k.BruteForce at 0x7f4b67c7f160>"
            ]
          },
          "metadata": {},
          "execution_count": 19
        }
      ],
      "source": [
        "model.fit(ratings.batch(4096), epochs=3)\n",
        "\n",
        "# Set up retrieval\n",
        "index = tfrs.layers.factorized_top_k.BruteForce(model.user_model)\n",
        "index.index_from_dataset(\n",
        "    movies.batch(100).map(lambda title: (title, model.movie_model(title)))\n",
        ")\n",
        "\n"
      ]
    },
    {
      "cell_type": "code",
      "source": [
        "# Train the model\n",
        "model.fit(ratings.batch(4096), epochs=3, callbacks=[history])"
      ],
      "metadata": {
        "id": "q1E1JU6cKN-4",
        "colab": {
          "base_uri": "https://localhost:8080/"
        },
        "outputId": "eae39156-107f-4b62-ec21-9ea2eb8e183d"
      },
      "execution_count": 38,
      "outputs": [
        {
          "output_type": "stream",
          "name": "stdout",
          "text": [
            "Epoch 1/3\n",
            "25/25 [==============================] - 39s 2s/step - loss: 0.6932 - factorized_top_k/top_1_categorical_accuracy: 3.5000e-04 - factorized_top_k/top_5_categorical_accuracy: 0.0026 - factorized_top_k/top_10_categorical_accuracy: 0.0055 - factorized_top_k/top_50_categorical_accuracy: 0.0291 - factorized_top_k/top_100_categorical_accuracy: 0.0591\n",
            "Epoch 2/3\n",
            "25/25 [==============================] - 40s 2s/step - loss: 0.6931 - factorized_top_k/top_1_categorical_accuracy: 3.3000e-04 - factorized_top_k/top_5_categorical_accuracy: 0.0025 - factorized_top_k/top_10_categorical_accuracy: 0.0055 - factorized_top_k/top_50_categorical_accuracy: 0.0292 - factorized_top_k/top_100_categorical_accuracy: 0.0594\n",
            "Epoch 3/3\n",
            "25/25 [==============================] - 37s 1s/step - loss: 0.6931 - factorized_top_k/top_1_categorical_accuracy: 3.8000e-04 - factorized_top_k/top_5_categorical_accuracy: 0.0026 - factorized_top_k/top_10_categorical_accuracy: 0.0055 - factorized_top_k/top_50_categorical_accuracy: 0.0293 - factorized_top_k/top_100_categorical_accuracy: 0.0597\n"
          ]
        },
        {
          "output_type": "execute_result",
          "data": {
            "text/plain": [
              "<keras.src.callbacks.History at 0x7f4b74339780>"
            ]
          },
          "metadata": {},
          "execution_count": 38
        }
      ]
    },
    {
      "cell_type": "code",
      "source": [
        "# Plot the training loss with colors\n",
        "plt.figure(figsize=(8, 4))\n",
        "plt.plot(history.losses, color='blue', marker='o', linestyle='dashed', linewidth=2, markersize=6)\n",
        "plt.title('Training Loss Over Epochs', fontsize=16)\n",
        "plt.xlabel('Epoch', fontsize=14)\n",
        "plt.ylabel('Loss', fontsize=14)\n",
        "plt.grid(True)\n",
        "plt.axhline(y=min(history.losses), color='red', linestyle='--', linewidth=1, label='Min Loss')\n",
        "plt.legend()\n",
        "plt.show()"
      ],
      "metadata": {
        "id": "ETH7-umdLCRR",
        "colab": {
          "base_uri": "https://localhost:8080/",
          "height": 417
        },
        "outputId": "f4854b89-89f2-40b9-e13c-aa622bb2943b"
      },
      "execution_count": 21,
      "outputs": [
        {
          "output_type": "display_data",
          "data": {
            "text/plain": [
              "<Figure size 800x400 with 1 Axes>"
            ],
            "image/png": "[encoded data removed]"
          },
          "metadata": {}
        }
      ]
    },
    {
      "cell_type": "markdown",
      "source": [
        "#Get Recommendation"
      ],
      "metadata": {
        "id": "1Rcjex6XIDK6"
      }
    },
    {
      "cell_type": "code",
      "source": [
        "# Get recommendations for a specific user\n",
        "_, titles = index(np.array([\"42\"]))\n",
        "\n",
        "# Print recommendations as bulleted points\n",
        "print(\"Top 10 recommendations for user 42:\")\n",
        "for i, title in enumerate(titles[0, :10].numpy(), start=1):\n",
        "    print(f\"{i}. {title.decode('utf-8')}\")"
      ],
      "metadata": {
        "id": "kQFv_PpkEXoR",
        "colab": {
          "base_uri": "https://localhost:8080/"
        },
        "outputId": "447a4a56-c0b1-4908-f2bf-0f40f4212924"
      },
      "execution_count": 39,
      "outputs": [
        {
          "output_type": "stream",
          "name": "stdout",
          "text": [
            "Top 10 recommendations for user 42:\n",
            "1. For Richer or Poorer (1997)\n",
            "2. G.I. Jane (1997)\n",
            "3. Some Folks Call It a Sling Blade (1993)\n",
            "4. Old Man and the Sea, The (1958)\n",
            "5. Target (1995)\n",
            "6. Trees Lounge (1996)\n",
            "7. Diva (1981)\n",
            "8. Mother Night (1996)\n",
            "9. Fall (1997)\n",
            "10. Deconstructing Harry (1997)\n"
          ]
        }
      ]
    },
    {
      "cell_type": "markdown",
      "source": [
        "#Recommendation system model-2\n",
        "\n",
        "##import libraries"
      ],
      "metadata": {
        "id": "0f92Bjw5Saj_"
      }
    },
    {
      "cell_type": "code",
      "execution_count": 23,
      "metadata": {
        "id": "neJAJVwbReNd"
      },
      "outputs": [],
      "source": [
        "import numpy as np\n",
        "import tensorflow as tf\n",
        "import tensorflow_datasets as tfds\n",
        "import tensorflow_recommenders as tfrs\n",
        "import matplotlib.pyplot as plt\n"
      ]
    },
    {
      "cell_type": "markdown",
      "source": [
        "##loading and preparing data"
      ],
      "metadata": {
        "id": "sdnh5HPzTu8Q"
      }
    },
    {
      "cell_type": "code",
      "source": [
        "# Load ratings and movies data\n",
        "ratings = tfds.load('movielens/100k-ratings', split=\"train\")\n",
        "movies = tfds.load('movielens/100k-movies', split=\"train\")\n",
        "\n",
        "# Select basic features\n",
        "ratings = ratings.map(lambda x: {\n",
        "    \"movie_title\": x[\"movie_title\"],\n",
        "    \"user_id\": x[\"user_id\"]\n",
        "})\n",
        "movies = movies.map(lambda x: x[\"movie_title\"])\n",
        "\n",
        "# Prepare vocabulary for user ids and movie titles\n",
        "user_ids_vocabulary = tf.keras.layers.StringLookup(mask_token=None)\n",
        "user_ids_vocabulary.adapt(ratings.map(lambda x: x[\"user_id\"]))\n",
        "\n",
        "movie_titles_vocabulary = tf.keras.layers.StringLookup(mask_token=None)\n",
        "movie_titles_vocabulary.adapt(movies)\n"
      ],
      "metadata": {
        "id": "Gi1qE1QhMq6Q"
      },
      "execution_count": 24,
      "outputs": []
    },
    {
      "cell_type": "markdown",
      "source": [
        "##Define the model"
      ],
      "metadata": {
        "id": "g2czxMFsTy0J"
      }
    },
    {
      "cell_type": "code",
      "source": [
        "class MovieLensModel(tfrs.Model):\n",
        "    def __init__(self, user_model, movie_model):\n",
        "        super().__init__()\n",
        "        self.user_model = user_model\n",
        "        self.movie_model = movie_model\n",
        "        self.dropout = tf.keras.layers.Dropout(0.2)\n",
        "        self.task = tfrs.tasks.Retrieval()\n",
        "\n",
        "    def compute_loss(self, features, training=False):\n",
        "        user_embeddings = self.user_model(features[\"user_id\"])\n",
        "        movie_embeddings = self.movie_model(features[\"movie_title\"])\n",
        "\n",
        "        user_embeddings = self.dropout(user_embeddings, training=training)\n",
        "        movie_embeddings = self.dropout(movie_embeddings, training=training)\n",
        "\n",
        "        return self.task(user_embeddings, movie_embeddings)\n"
      ],
      "metadata": {
        "id": "NESK8vdZMt0o"
      },
      "execution_count": 25,
      "outputs": []
    },
    {
      "cell_type": "markdown",
      "source": [
        "##Define user and movie model"
      ],
      "metadata": {
        "id": "O-RXa-G-T325"
      }
    },
    {
      "cell_type": "code",
      "source": [
        "class MovieLensModel(tfrs.Model):\n",
        "    def __init__(self, user_model, movie_model):\n",
        "        super().__init__()\n",
        "        self.user_model = user_model\n",
        "        self.movie_model = movie_model\n",
        "        self.interaction_layer = tf.keras.layers.Dot(axes=1)\n",
        "        self.task = tfrs.tasks.Retrieval()\n",
        "\n",
        "    def compute_loss(self, features, training=False):\n",
        "        user_embeddings = self.user_model(features[\"user_id\"])\n",
        "        movie_embeddings = self.movie_model(features[\"movie_title\"])\n",
        "\n",
        "        interaction = self.interaction_layer([user_embeddings, movie_embeddings])\n",
        "\n",
        "        return self.task(interaction)\n"
      ],
      "metadata": {
        "id": "Y-wOjAzRM6p3"
      },
      "execution_count": 26,
      "outputs": []
    },
    {
      "cell_type": "code",
      "source": [
        "user_model = tf.keras.Sequential([\n",
        "    user_ids_vocabulary,\n",
        "    tf.keras.layers.Embedding(user_ids_vocabulary.vocab_size(), 64)\n",
        "])\n",
        "\n",
        "movie_model = tf.keras.Sequential([\n",
        "    movie_titles_vocabulary,\n",
        "    tf.keras.layers.Embedding(movie_titles_vocabulary.vocab_size(), 64)\n",
        "])\n"
      ],
      "metadata": {
        "id": "ENitiYqkOs2Y",
        "colab": {
          "base_uri": "https://localhost:8080/"
        },
        "outputId": "3c6b5a12-9d6f-4348-8501-f743776e8ae3"
      },
      "execution_count": 27,
      "outputs": [
        {
          "output_type": "stream",
          "name": "stderr",
          "text": [
            "WARNING:tensorflow:vocab_size is deprecated, please use vocabulary_size.\n",
            "WARNING:tensorflow:vocab_size is deprecated, please use vocabulary_size.\n"
          ]
        }
      ]
    },
    {
      "cell_type": "code",
      "source": [
        "# Train the model\n",
        "model.fit(ratings.batch(4096), epochs=3)\n"
      ],
      "metadata": {
        "id": "CU1ESNsZSJHX",
        "colab": {
          "base_uri": "https://localhost:8080/"
        },
        "outputId": "ba37b4e7-888e-4f80-a88a-0876c56b8402"
      },
      "execution_count": 28,
      "outputs": [
        {
          "output_type": "stream",
          "name": "stdout",
          "text": [
            "Epoch 1/3\n",
            "25/25 [==============================] - 38s 1s/step - loss: 0.6931 - factorized_top_k/top_1_categorical_accuracy: 4.5000e-04 - factorized_top_k/top_5_categorical_accuracy: 0.0028 - factorized_top_k/top_10_categorical_accuracy: 0.0060 - factorized_top_k/top_50_categorical_accuracy: 0.0308 - factorized_top_k/top_100_categorical_accuracy: 0.0619\n",
            "Epoch 2/3\n",
            "25/25 [==============================] - 38s 2s/step - loss: 0.6931 - factorized_top_k/top_1_categorical_accuracy: 4.9000e-04 - factorized_top_k/top_5_categorical_accuracy: 0.0028 - factorized_top_k/top_10_categorical_accuracy: 0.0060 - factorized_top_k/top_50_categorical_accuracy: 0.0310 - factorized_top_k/top_100_categorical_accuracy: 0.0622\n",
            "Epoch 3/3\n",
            "25/25 [==============================] - 37s 1s/step - loss: 0.6931 - factorized_top_k/top_1_categorical_accuracy: 4.3000e-04 - factorized_top_k/top_5_categorical_accuracy: 0.0029 - factorized_top_k/top_10_categorical_accuracy: 0.0061 - factorized_top_k/top_50_categorical_accuracy: 0.0311 - factorized_top_k/top_100_categorical_accuracy: 0.0625\n"
          ]
        },
        {
          "output_type": "execute_result",
          "data": {
            "text/plain": [
              "<keras.src.callbacks.History at 0x7f4b65ccc0a0>"
            ]
          },
          "metadata": {},
          "execution_count": 28
        }
      ]
    },
    {
      "cell_type": "code",
      "source": [
        "history = model.history.history\n",
        "\n",
        "plt.figure(figsize=(8, 4))\n",
        "plt.plot(history['loss'], label='Training Loss', color='green')  # Change color here\n",
        "plt.xlabel('Epochs')\n",
        "plt.ylabel('Loss')\n",
        "plt.legend()\n",
        "plt.title('Training Loss over Epochs')\n",
        "plt.show()"
      ],
      "metadata": {
        "id": "wXA5tfHjSMf_",
        "colab": {
          "base_uri": "https://localhost:8080/",
          "height": 410
        },
        "outputId": "22d72825-94a1-40ad-ce90-28988dbc4a71"
      },
      "execution_count": 29,
      "outputs": [
        {
          "output_type": "display_data",
          "data": {
            "text/plain": [
              "<Figure size 800x400 with 1 Axes>"
            ],
            "image/png": "[encoded data removed]"
          },
          "metadata": {}
        }
      ]
    },
    {
      "cell_type": "code",
      "source": [
        "# Use brute-force search for retrieval\n",
        "index = tfrs.layers.factorized_top_k.BruteForce(model.user_model)\n",
        "index.index_from_dataset(\n",
        "    movies.batch(100).map(lambda title: (title, model.movie_model(title)))\n",
        ")\n",
        "\n",
        "# Get recommendations for a specific user (user id = \"42\")\n",
        "_, titles = index(np.array([\"42\"]))\n",
        "print(\"Top 10 recommendations for user 42:\")\n",
        "for i, title in enumerate(titles[0, :10], start=1):\n",
        "    print(f\"{i}. {title.numpy().decode('utf-8')}\")\n"
      ],
      "metadata": {
        "id": "qckdQhfDSUz6",
        "colab": {
          "base_uri": "https://localhost:8080/"
        },
        "outputId": "4eb4c5da-3d55-42b1-87db-21cba02bbfb3"
      },
      "execution_count": 31,
      "outputs": [
        {
          "output_type": "stream",
          "name": "stdout",
          "text": [
            "Top 10 recommendations for user 42:\n",
            "1. For Richer or Poorer (1997)\n",
            "2. G.I. Jane (1997)\n",
            "3. Some Folks Call It a Sling Blade (1993)\n",
            "4. Old Man and the Sea, The (1958)\n",
            "5. Target (1995)\n",
            "6. Trees Lounge (1996)\n",
            "7. Diva (1981)\n",
            "8. Mother Night (1996)\n",
            "9. Fall (1997)\n",
            "10. Deconstructing Harry (1997)\n"
          ]
        }
      ]
    },
    {
      "cell_type": "code",
      "source": [],
      "metadata": {
        "id": "E95FhlfiXrER"
      },
      "execution_count": null,
      "outputs": []
    },
    {
      "cell_type": "markdown",
      "source": [
        "#Recomendation system model-3\n",
        "\n",
        "##Install libraries"
      ],
      "metadata": {
        "id": "pxmBm1FZXvq8"
      }
    },
    {
      "cell_type": "code",
      "source": [
        "!pip install -q tensorflow-recommenders\n",
        "!pip install -q --upgrade tensorflow-datasets\n"
      ],
      "metadata": {
        "id": "SmQem5-UkwjV"
      },
      "execution_count": null,
      "outputs": []
    },
    {
      "cell_type": "markdown",
      "source": [
        "##Import libraries and load data"
      ],
      "metadata": {
        "id": "vOR2T9cRYF2f"
      }
    },
    {
      "cell_type": "code",
      "source": [
        "from typing import Dict\n",
        "import numpy as np\n",
        "import tensorflow as tf\n",
        "import tensorflow_datasets as tfds\n",
        "import tensorflow_recommenders as tfrs\n",
        "import matplotlib.pyplot as plt\n",
        "\n",
        "# Load MovieLens 100k dataset\n",
        "ratings = tfds.load('movielens/100k-ratings', split=\"train\")\n",
        "movies = tfds.load('movielens/100k-movies', split=\"train\")"
      ],
      "metadata": {
        "id": "EIRskNRSohE9"
      },
      "execution_count": 32,
      "outputs": []
    },
    {
      "cell_type": "markdown",
      "source": [
        "##preprocess data"
      ],
      "metadata": {
        "id": "DDfUJ7WB1ROt"
      }
    },
    {
      "cell_type": "code",
      "source": [
        "# Select the basic features.\n",
        "ratings = ratings.map(lambda x: {\n",
        "    \"movie_title\": x[\"movie_title\"],\n",
        "    \"user_id\": x[\"user_id\"]\n",
        "})\n",
        "movies = movies.map(lambda x: x[\"movie_title\"])\n",
        "\n",
        "# Vocabulary layers for user_ids and movie_titles\n",
        "user_ids_vocabulary = tf.keras.layers.StringLookup(mask_token=None)\n",
        "user_ids_vocabulary.adapt(ratings.map(lambda x: x[\"user_id\"]))\n",
        "\n",
        "movie_titles_vocabulary = tf.keras.layers.StringLookup(mask_token=None)\n",
        "movie_titles_vocabulary.adapt(movies)"
      ],
      "metadata": {
        "id": "WiMrfJBy1Lov"
      },
      "execution_count": 33,
      "outputs": []
    },
    {
      "cell_type": "markdown",
      "source": [
        "##Define model"
      ],
      "metadata": {
        "id": "Vhce1k86YbUI"
      }
    },
    {
      "cell_type": "code",
      "source": [
        "# Part 4: Define the BPR Model\n",
        "class BPRModel(tf.keras.Model):\n",
        "    def __init__(self, user_model: tf.keras.Model, movie_model: tf.keras.Model, task: tfrs.tasks.Retrieval):\n",
        "        super().__init__()\n",
        "        self.user_model = user_model\n",
        "        self.movie_model = movie_model\n",
        "        self.task = task\n",
        "\n",
        "    def call(self, features: Dict[str, tf.Tensor], training=False) -> tf.Tensor:\n",
        "        user_embeddings = self.user_model(features[\"user_id\"])\n",
        "        positive_movie_embeddings = self.movie_model(features[\"movie_title\"])\n",
        "\n",
        "        # Generate negative samples\n",
        "        negative_movie_embeddings = self.movie_model(tf.random.shuffle(features[\"movie_title\"]))\n",
        "\n",
        "        # Calculate the BPR loss\n",
        "        positive_scores = tf.reduce_sum(user_embeddings * positive_movie_embeddings, axis=1)\n",
        "        negative_scores = tf.reduce_sum(user_embeddings * negative_movie_embeddings, axis=1)\n",
        "        bpr_loss = -tf.reduce_mean(tf.math.log(tf.nn.sigmoid(positive_scores - negative_scores)))\n",
        "\n",
        "        self.add_loss(bpr_loss)  # Add BPR loss to model's losses\n",
        "\n",
        "        return self.task(user_embeddings, positive_movie_embeddings)\n",
        "\n",
        "# Define user and movie embedding dimensions\n",
        "embedding_dim = 64\n",
        "\n",
        "# User model with embedding layer\n",
        "user_model = tf.keras.Sequential([\n",
        "    user_ids_vocabulary,\n",
        "    tf.keras.layers.Embedding(user_ids_vocabulary.vocabulary_size(), embedding_dim)\n",
        "])\n",
        "\n",
        "# Movie model with embedding layer\n",
        "movie_model = tf.keras.Sequential([\n",
        "    movie_titles_vocabulary,\n",
        "    tf.keras.layers.Embedding(movie_titles_vocabulary.vocabulary_size(), embedding_dim)\n",
        "])\n",
        "\n",
        "# Define retrieval task for evaluation\n",
        "task = tfrs.tasks.Retrieval(\n",
        "    metrics=tfrs.metrics.FactorizedTopK(\n",
        "        movies.batch(128).map(movie_model)\n",
        "    )\n",
        ")"
      ],
      "metadata": {
        "id": "5pyciwHEUKyX"
      },
      "execution_count": 34,
      "outputs": []
    },
    {
      "cell_type": "code",
      "source": [
        "# Create the BPR model instance\n",
        "model = BPRModel(user_model, movie_model, task)\n",
        "model.compile(optimizer=tf.keras.optimizers.Adagrad(0.5), run_eagerly=True)\n"
      ],
      "metadata": {
        "id": "7TshBIzWIhMy"
      },
      "execution_count": 35,
      "outputs": []
    },
    {
      "cell_type": "markdown",
      "source": [
        "##Verify data\n"
      ],
      "metadata": {
        "id": "ILutx1Yj12A0"
      }
    },
    {
      "cell_type": "code",
      "source": [
        "# Check if the ratings dataset is not empty\n",
        "print(\"Number of ratings:\", len(list(ratings.as_numpy_iterator())))\n",
        "print(\"Number of movies:\", len(list(movies.as_numpy_iterator())))\n",
        "\n",
        "# Print some samples\n",
        "for rating in ratings.take(1):\n",
        "    print(\"Sample rating:\", rating)\n"
      ],
      "metadata": {
        "id": "iLN3W6im15hE",
        "colab": {
          "base_uri": "https://localhost:8080/"
        },
        "outputId": "063124a5-8d83-4493-95cd-b66b54cd1046"
      },
      "execution_count": 36,
      "outputs": [
        {
          "output_type": "stream",
          "name": "stdout",
          "text": [
            "Number of ratings: 100000\n",
            "Number of movies: 1682\n",
            "Sample rating: {'movie_title': <tf.Tensor: shape=(), dtype=string, numpy=b\"One Flew Over the Cuckoo's Nest (1975)\">, 'user_id': <tf.Tensor: shape=(), dtype=string, numpy=b'138'>}\n"
          ]
        }
      ]
    },
    {
      "cell_type": "markdown",
      "source": [
        "##Train the data"
      ],
      "metadata": {
        "id": "VmG8hF7L2E3T"
      }
    },
    {
      "cell_type": "code",
      "source": [
        "# Train the model for 3 epochs\n",
        "history = model.fit(ratings.batch(4096), epochs=3)\n",
        "\n",
        "# Visualize training history with colorful graphs\n",
        "plt.figure(figsize=(12, 6))\n",
        "\n",
        "# Plot training loss\n",
        "plt.subplot(1, 2, 1)\n",
        "plt.plot(history.history['loss'], label='Training Loss', color='blue')\n",
        "plt.title('Training Loss over Epochs')\n",
        "plt.xlabel('Epoch')\n",
        "plt.ylabel('Loss')\n",
        "plt.legend()\n",
        "\n",
        "# Plot validation loss (if available)\n",
        "if 'val_loss' in history.history:\n",
        "    plt.subplot(1, 2, 2)\n",
        "    plt.plot(history.history['val_loss'], label='Validation Loss', color='green')\n",
        "    plt.title('Validation Loss over Epochs')\n",
        "    plt.xlabel('Epoch')\n",
        "    plt.ylabel('Loss')\n",
        "    plt.legend()\n",
        "\n",
        "plt.tight_layout()\n",
        "plt.show()\n"
      ],
      "metadata": {
        "id": "IEwLEovL2GpD",
        "colab": {
          "base_uri": "https://localhost:8080/",
          "height": 731
        },
        "outputId": "e23e1c17-74dd-4cb6-a017-38abb767552d"
      },
      "execution_count": 40,
      "outputs": [
        {
          "output_type": "stream",
          "name": "stdout",
          "text": [
            "Epoch 1/3\n",
            "25/25 [==============================] - 42s 2s/step - loss: 0.6931 - factorized_top_k/top_1_categorical_accuracy: 3.8000e-04 - factorized_top_k/top_5_categorical_accuracy: 0.0026 - factorized_top_k/top_10_categorical_accuracy: 0.0055 - factorized_top_k/top_50_categorical_accuracy: 0.0295 - factorized_top_k/top_100_categorical_accuracy: 0.0599\n",
            "Epoch 2/3\n",
            "25/25 [==============================] - 38s 1s/step - loss: 0.6931 - factorized_top_k/top_1_categorical_accuracy: 4.2000e-04 - factorized_top_k/top_5_categorical_accuracy: 0.0026 - factorized_top_k/top_10_categorical_accuracy: 0.0056 - factorized_top_k/top_50_categorical_accuracy: 0.0296 - factorized_top_k/top_100_categorical_accuracy: 0.0603\n",
            "Epoch 3/3\n",
            "25/25 [==============================] - 39s 2s/step - loss: 0.6931 - factorized_top_k/top_1_categorical_accuracy: 3.7000e-04 - factorized_top_k/top_5_categorical_accuracy: 0.0027 - factorized_top_k/top_10_categorical_accuracy: 0.0057 - factorized_top_k/top_50_categorical_accuracy: 0.0299 - factorized_top_k/top_100_categorical_accuracy: 0.0604\n"
          ]
        },
        {
          "output_type": "display_data",
          "data": {
            "text/plain": [
              "<Figure size 1200x600 with 1 Axes>"
            ],
            "image/png": "[encoded data removed]"
          },
          "metadata": {}
        }
      ]
    },
    {
      "cell_type": "markdown",
      "source": [
        "##Retrieve and Display Recommendations"
      ],
      "metadata": {
        "id": "c-H_H_f_wqbA"
      }
    },
    {
      "cell_type": "code",
      "source": [
        "# Set up retrieval using brute-force search with trained representations\n",
        "index = tfrs.layers.factorized_top_k.BruteForce(model.user_model)\n",
        "index.index_from_dataset(\n",
        "    movies.batch(100).map(lambda title: (title, model.movie_model(title))))\n",
        "\n",
        "# Get recommendations for a specific user\n",
        "_, titles = index(np.array([\"42\"]))\n",
        "print(\"Top 10 recommendations for user 42:\")\n",
        "for i, title in enumerate(titles[0, :10], 1):\n",
        "    print(f\"{i}. {title.numpy().decode('utf-8')}\")"
      ],
      "metadata": {
        "id": "FAW5VESsZgGB",
        "colab": {
          "base_uri": "https://localhost:8080/"
        },
        "outputId": "4ee92ab3-1724-4d16-9564-d5e43abf8ca8"
      },
      "execution_count": 41,
      "outputs": [
        {
          "output_type": "stream",
          "name": "stdout",
          "text": [
            "Top 10 recommendations for user 42:\n",
            "1. Rough Magic (1995)\n",
            "2. Touch (1997)\n",
            "3. Misérables, Les (1995)\n",
            "4. Race the Sun (1996)\n",
            "5. Sex, Lies, and Videotape (1989)\n",
            "6. Niagara, Niagara (1997)\n",
            "7. Desperate Measures (1998)\n",
            "8. Desperate Measures (1998)\n",
            "9. Chasing Amy (1997)\n",
            "10. Chasing Amy (1997)\n"
          ]
        }
      ]
    },
    {
      "cell_type": "code",
      "source": [],
      "metadata": {
        "id": "yfVXoZrYLgKs"
      },
      "execution_count": null,
      "outputs": []
    }
  ],
  "metadata": {
    "colab": {
      "provenance": []
    },
    "kernelspec": {
      "display_name": "Python 3",
      "name": "python3"
    }
  },
  "nbformat": 4,
  "nbformat_minor": 0
}